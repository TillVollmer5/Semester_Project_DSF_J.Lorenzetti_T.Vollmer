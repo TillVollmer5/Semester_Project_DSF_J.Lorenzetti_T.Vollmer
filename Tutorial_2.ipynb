{
  "nbformat": 4,
  "nbformat_minor": 0,
  "metadata": {
    "colab": {
      "name": "Tutorial 2.ipynb",
      "provenance": [],
      "include_colab_link": true
    },
    "kernelspec": {
      "name": "python3",
      "display_name": "Python 3"
    },
    "language_info": {
      "name": "python"
    }
  },
  "cells": [
    {
      "cell_type": "markdown",
      "metadata": {
        "id": "view-in-github",
        "colab_type": "text"
      },
      "source": [
        "<a href=\"https://colab.research.google.com/github/TillVollmer5/Semester_Project_DSF_J.Lorenzetti_T.Vollmer/blob/main/Tutorial_2.ipynb\" target=\"_parent\"><img src=\"https://colab.research.google.com/assets/colab-badge.svg\" alt=\"Open In Colab\"/></a>"
      ]
    },
    {
      "cell_type": "markdown",
      "source": [
        "# Tutorial 2\n",
        "This notebook documents the final sections of the tutorial.\n",
        "\n",
        "To finish the tutorial after the production run on Ubelix, the created md_0_1 output files were transferred to the Chemzilla server using FileZilla. The command below was run according to the analysis part of the tutorial. However, as described in the Ubelix notebook, an error occurred because the md files were incomplete. "
      ],
      "metadata": {
        "id": "dpUjiKW_ppti"
      }
    },
    {
      "cell_type": "code",
      "execution_count": null,
      "metadata": {
        "id": "Aq8d3Wmopo94"
      },
      "outputs": [],
      "source": [
        "gmx trjconv -s md_0_1.tpr -f md_0_1.xtc -o md_0_1_noPBC.xtc -pbc mol -center\n"
      ]
    },
    {
      "cell_type": "markdown",
      "source": [
        "The following commands were then run using the previously acquired npt files as substitutes."
      ],
      "metadata": {
        "id": "uMyv40vpJjwb"
      }
    },
    {
      "cell_type": "code",
      "source": [
        "gmx trjconv -s npt.tpr -f npt.gro -o npt_noPBC.xtc -pbc mol -center"
      ],
      "metadata": {
        "id": "0sWkAByyJv9b"
      },
      "execution_count": null,
      "outputs": []
    },
    {
      "cell_type": "code",
      "source": [
        "gmx rms -s npt.tpr -f npt_noPBC.xtc -o rmsd.xvg -tu ns"
      ],
      "metadata": {
        "id": "lZHdftI8Kacl"
      },
      "execution_count": null,
      "outputs": []
    },
    {
      "cell_type": "code",
      "source": [
        "gmx rms -s em.tpr -f md_0_1_noPBC.xtc -o rmsd_xtal.xvg -tu ns"
      ],
      "metadata": {
        "id": "J8XHoumIKnik"
      },
      "execution_count": null,
      "outputs": []
    },
    {
      "cell_type": "code",
      "source": [
        "gmx gyrate -s npt.tpr -f npt_noPBC.xtc -o gyrate.xvg"
      ],
      "metadata": {
        "id": "vwwDs13DLqsz"
      },
      "execution_count": null,
      "outputs": []
    },
    {
      "cell_type": "markdown",
      "source": [
        "Although no error was returned from the commands, the plots of the .xvg files created with xmgrace turned out to be empty. The files only contain two datapoints. This probably indicates that either the npt input does not work for this analysis step or that there is something wrong with the npt files.\n",
        "Unfortunately, it was not possible to finish the tutorial successfully without the correct md files as input. "
      ],
      "metadata": {
        "id": "CNqficX7Ku_R"
      }
    }
  ]
}