{
  "nbformat": 4,
  "nbformat_minor": 0,
  "metadata": {
    "colab": {
      "name": "Untitled0.ipynb",
      "provenance": [],
      "include_colab_link": true
    },
    "kernelspec": {
      "name": "python3",
      "display_name": "Python 3"
    },
    "language_info": {
      "name": "python"
    }
  },
  "cells": [
    {
      "cell_type": "markdown",
      "metadata": {
        "id": "view-in-github",
        "colab_type": "text"
      },
      "source": [
        "<a href=\"https://colab.research.google.com/github/TillVollmer5/Semester_Project_DSF_J.Lorenzetti_T.Vollmer/blob/main/Setup.ipynb\" target=\"_parent\"><img src=\"https://colab.research.google.com/assets/colab-badge.svg\" alt=\"Open In Colab\"/></a>"
      ]
    },
    {
      "cell_type": "markdown",
      "source": [
        "# Setup\n",
        "This notebook documents the procedure for the first step, with the goal of getting access to Chemzilla, Ubelix and the other software required for the future steps."
      ],
      "metadata": {
        "id": "EmLJKF4FoAzB"
      }
    },
    {
      "cell_type": "markdown",
      "source": [
        "important side note: to access the Chemzilla server and the Ubelix cluster, one needs to connect to the eduroam network. A VPN connection is therefore necessary for remote access. \n",
        "\n",
        "downloading PuTTY here: https://www.putty.org/\n",
        "This is a tool to work remotely on a linux system by providing a so-called secure shell (ssh), which allows ecrypted connection to the remote (linux) computer.\n",
        "PSFTP is used to transfer files (SFTP: secure file transfer protocol)\n",
        "\n",
        "Here is the link to a useful cheatsheet for linux command lines: https://cheatography.com/davechild/cheat-sheets/linux-command-line/\n",
        "\n",
        "downloading FileZilla here: https://filezilla-project.org/ (I downloaded the FileZilla Client)\n",
        "FileZilla is a software used for copying files remotely via a FTP\n",
        "\n",
        "A remote desktop protocol (RDP) is integrated into every windows system (Remotedesktopverbindung) and is used to connect to the linux machine of the chemzilla teaching server at the university. It can be accessed by typing in the IP adress of the linux computer and a username and password obtained by the supervisor.\n",
        "\n",
        "For the project, molecular dynamics (MD) will be used to analyze a given protein. \n",
        "The software to do this is GROMACS https://manual.gromacs.org/documentation/current/index.html\n",
        "The algorithm used for MD is explained here: https://manual.gromacs.org/documentation/current/reference-manual/algorithms/molecular-dynamics.html\n",
        "\n",
        "The obtained pdb file describing the protein was retrieved from the protein data bank here: https://www.rcsb.org/\n",
        "\n",
        "To process the protein data given in the pdb file, a tutorial using GROMACS is followed.\n",
        "(Tutorial 1: Lysozyme in water, http://www.mdtutorials.com/gmx/lysozyme/index.html)\n",
        "\n",
        "The teaching server at the Reymond lab called Chemzilla can be accessed with the following credentials:\n",
        "IP address: 130.92.106.218 using the remote desktop client of Windows.\n",
        "Username: group1\n",
        "PW: grp1a5\n",
        "\n",
        "The server will be used to run the tutorial, except for the production runs (production MD).\n",
        "\n",
        "For the production runs, the high performance computing (HPC) cluster of the university called Ubelix will be used (https://ubelix.unibe.ch/)\n",
        "The tutorial on how to access Ubelix is found here: https://hpc-unibe-ch.github.io/\n",
        "The student campus account needs to be activated first to gain access to Ubelix. A form was filled out on the ubelix website and access was granted within a few hours.\n"
      ],
      "metadata": {
        "id": "MZmN8QphydPz"
      }
    },
    {
      "cell_type": "code",
      "source": [
        ""
      ],
      "metadata": {
        "id": "dpUyAhtwolQh"
      },
      "execution_count": null,
      "outputs": []
    }
  ]
}